{
 "metadata": {
  "language_info": {
   "codemirror_mode": {
    "name": "ipython",
    "version": 3
   },
   "file_extension": ".py",
   "mimetype": "text/x-python",
   "name": "python",
   "nbconvert_exporter": "python",
   "pygments_lexer": "ipython3",
   "version": "3.8.2-final"
  },
  "orig_nbformat": 2,
  "kernelspec": {
   "name": "python_defaultSpec_1600933270065",
   "display_name": "Python 3.8.2 64-bit"
  }
 },
 "nbformat": 4,
 "nbformat_minor": 2,
 "cells": [
  {
   "cell_type": "code",
   "execution_count": 1,
   "metadata": {},
   "outputs": [],
   "source": [
    "import pandas as pd\n",
    "allData = pd.read_csv('gener2020.csv.gz', compression='infer')\n"
   ]
  },
  {
   "cell_type": "code",
   "execution_count": 3,
   "metadata": {},
   "outputs": [
    {
     "output_type": "execute_result",
     "data": {
      "text/plain": "                                  METRIC INFO       UNIT  CCGT_H_2025  \\\n31  Connection and use of system charges  NaN  £/MW/year       3500.0   \n\n    CCGT_H_2030  CCGT_H_2035  CCGT_H_2040  CCGT_CHP_2025  CCGT_CHP_2030  \\\n31       3500.0       3500.0       3500.0         3500.0         3500.0   \n\n    CCGT_CHP_2035  ...  CCGT_CCS_POSTCOMBUST_NOAK_2035  \\\n31         3500.0  ...                          3500.0   \n\n    CCGT_CCS_POSTCOMBUST_NOAK_2040  BIOMASS_CCS_FOAK_2025  \\\n31                          3500.0                   4100   \n\n    BIOMASS_CCS_FOAK_2030  BIOMASS_CCS_FOAK_2035  BIOMASS_CCS_FOAK_2040  \\\n31                   4100                    NaN                    NaN   \n\n    BIOMASS_CCS_NOAK_2025  BIOMASS_CCS_NOAK_2030  BIOMASS_CCS_NOAK_2035  \\\n31                    NaN                    NaN                   4100   \n\n    BIOMASS_CCS_NOAK_2040  \n31                   4100  \n\n[1 rows x 171 columns]",
      "text/html": "<div>\n<style scoped>\n    .dataframe tbody tr th:only-of-type {\n        vertical-align: middle;\n    }\n\n    .dataframe tbody tr th {\n        vertical-align: top;\n    }\n\n    .dataframe thead th {\n        text-align: right;\n    }\n</style>\n<table border=\"1\" class=\"dataframe\">\n  <thead>\n    <tr style=\"text-align: right;\">\n      <th></th>\n      <th>METRIC</th>\n      <th>INFO</th>\n      <th>UNIT</th>\n      <th>CCGT_H_2025</th>\n      <th>CCGT_H_2030</th>\n      <th>CCGT_H_2035</th>\n      <th>CCGT_H_2040</th>\n      <th>CCGT_CHP_2025</th>\n      <th>CCGT_CHP_2030</th>\n      <th>CCGT_CHP_2035</th>\n      <th>...</th>\n      <th>CCGT_CCS_POSTCOMBUST_NOAK_2035</th>\n      <th>CCGT_CCS_POSTCOMBUST_NOAK_2040</th>\n      <th>BIOMASS_CCS_FOAK_2025</th>\n      <th>BIOMASS_CCS_FOAK_2030</th>\n      <th>BIOMASS_CCS_FOAK_2035</th>\n      <th>BIOMASS_CCS_FOAK_2040</th>\n      <th>BIOMASS_CCS_NOAK_2025</th>\n      <th>BIOMASS_CCS_NOAK_2030</th>\n      <th>BIOMASS_CCS_NOAK_2035</th>\n      <th>BIOMASS_CCS_NOAK_2040</th>\n    </tr>\n  </thead>\n  <tbody>\n    <tr>\n      <th>31</th>\n      <td>Connection and use of system charges</td>\n      <td>NaN</td>\n      <td>£/MW/year</td>\n      <td>3500.0</td>\n      <td>3500.0</td>\n      <td>3500.0</td>\n      <td>3500.0</td>\n      <td>3500.0</td>\n      <td>3500.0</td>\n      <td>3500.0</td>\n      <td>...</td>\n      <td>3500.0</td>\n      <td>3500.0</td>\n      <td>4100</td>\n      <td>4100</td>\n      <td>NaN</td>\n      <td>NaN</td>\n      <td>NaN</td>\n      <td>NaN</td>\n      <td>4100</td>\n      <td>4100</td>\n    </tr>\n  </tbody>\n</table>\n<p>1 rows × 171 columns</p>\n</div>"
     },
     "metadata": {},
     "execution_count": 3
    }
   ],
   "source": [
    "cusc = allData.iloc[[31]]\n",
    "cusc\n"
   ]
  },
  {
   "cell_type": "code",
   "execution_count": 6,
   "metadata": {},
   "outputs": [
    {
     "output_type": "execute_result",
     "data": {
      "text/plain": "[{'METRIC': 'Connection and use of system charges',\n  'INFO': nan,\n  'UNIT': '£/MW/year',\n  'CCGT_H_2025': 3500.0,\n  'CCGT_H_2030': 3500.0,\n  'CCGT_H_2035': 3500.0,\n  'CCGT_H_2040': 3500.0,\n  'CCGT_CHP_2025': 3500.0,\n  'CCGT_CHP_2030': 3500.0,\n  'CCGT_CHP_2035': 3500.0,\n  'CCGT_CHP_2040': 3500.0,\n  'OCGT_600MW_500HR_2025': 2500.0,\n  'OCGT_600MW_500HR_2030': 2500.0,\n  'OCGT_600MW_500HR_2035': 2500.0,\n  'OCGT_600MW_500HR_2040': 2500.0,\n  'OCGT_400MW_500HR_2025': 2500.0,\n  'OCGT_400MW_500HR_2030': 2500.0,\n  'OCGT_400MW_500HR_2035': 2500.0,\n  'OCGT_400MW_500HR_2040': 2500.0,\n  'OCGT_300MW_500HR_2025': 2500.0,\n  'OCGT_300MW_500HR_2030': 2500.0,\n  'OCGT_300MW_500HR_2035': 2500.0,\n  'OCGT_300MW_500HR_2040': 2500.0,\n  'OCGT_299MW_500HR_2025': 2500.0,\n  'OCGT_300MW_500HR_2030.1': 2500.0,\n  'OCGT_300MW_500HR_2035.1': 2500.0,\n  'OCGT_300MW_500HR_2040.1': 2500.0,\n  'OCGT_100MW_500HR_2025': 2500.0,\n  'OCGT_300MW_500HR_2030.2': 2500.0,\n  'OCGT_300MW_500HR_2035.2': 2500.0,\n  'OCGT_300MW_500HR_2040.2': 2500.0,\n  'OCGT_600MW_2000HR_2025': 2700.0,\n  'OCGT_600MW_2000HR_2030': 2700.0,\n  'OCGT_600MW_2000HR_2035': 2700.0,\n  'OCGT_600MW_2000HR_2040': 2700.0,\n  'OCGT_400MW_2000HR_2025': 2700.0,\n  'OCGT_400MW_2000HR_2030': 2700.0,\n  'OCGT_400MW_2000HR_2035': 2700.0,\n  'OCGT_400MW_2000HR_2040': 2700.0,\n  'OCGT_300MW_2000HR_2025': 2700.0,\n  'OCGT_300MW_2000HR_2030': 2700.0,\n  'OCGT_300MW_2000HR_2035': 2700.0,\n  'OCGT_300MW_2000HR_2040': 2700.0,\n  'OCGT_299MW_2000HR_2025': 2700.0,\n  'OCGT_299MW_2000HR_2030': 2700.0,\n  'OCGT_299MW_2000HR_2035': 2700.0,\n  'OCGT_299MW_2000HR_2040': 2700.0,\n  'OCGT_100MW_2000HR_2025': 2700.0,\n  'OCGT_100MW_2000HR_2030': 2700.0,\n  'OCGT_100MW_2000HR_2035': 2700.0,\n  'OCGT_100MW_2000HR_2040': 2700.0,\n  'RECIP_DIESEL_2000HR_2025': -34100.0,\n  'RECIP_DIESEL_2000HR_2030': -34100.0,\n  'RECIP_DIESEL_2000HR_2035': -34100.0,\n  'RECIP_DIESEL_2000HR_2040': -34100.0,\n  'RECIP_DIESEL_500HR_2025': -30500.0,\n  'RECIP_DIESEL_500HR_2030': -30500.0,\n  'RECIP_DIESEL_500HR_2035': -30500.0,\n  'RECIP_DIESEL_500HR_2040': -30500.0,\n  'RECIP_DIESEL_90HR_2025': -29900.0,\n  'RECIP_DIESEL_90HR_2030': -29900.0,\n  'RECIP_DIESEL_90HR_2035': -29900.0,\n  'RECIP_DIESEL_90HR_2040': -29900.0,\n  'RECIP_GAS_2000HR_2025': -34100.0,\n  'RECIP_GAS_2000HR_2030': -34100.0,\n  'RECIP_GAS_2000HR_2035': -34100.0,\n  'RECIP_GAS_2000HR_2040': -34100.0,\n  'RECIP_GAS_500HR_2025': -30500.0,\n  'RECIP_GAS_500HR_2030': -30500.0,\n  'RECIP_GAS_500HR_2035': -30500.0,\n  'RECIP_GAS_500HR_2040': -30500.0,\n  'DEDICATED_BIOMASS_2025': 13800.0,\n  'DEDICATED_BIOMASS_2030': 13800.0,\n  'DEDICATED_BIOMASS_2035': 13800.0,\n  'DEDICATED_BIOMASS_2040': 13800.0,\n  'BIOMASS_CHP_2025': 17900.0,\n  'BIOMASS_CHP_2030': 17900.0,\n  'BIOMASS_CHP_2035': 17800.0,\n  'BIOMASS_CHP_2040': 17800.0,\n  'ONSHORE_WIND_2025': '4100',\n  'ONSHORE_WIND_2030': '4400',\n  'ONSHORE_WIND_2035': '4800',\n  'ONSHORE_WIND_2040': '5100',\n  'OFFSHORE_WIND_2025': '56800',\n  'OFFSHORE_WIND_2030': '61800',\n  'OFFSHORE_WIND_2035': '65100',\n  'OFFSHORE_WIND_2040': '68900',\n  'LARGESCALE_SOLAR_2025': '1600',\n  'LARGESCALE_SOLAR_2030': '1600',\n  'LARGESCALE_SOLAR_2035': '1600',\n  'LARGESCALE_SOLAR_2040': '1600',\n  'SOLAR_10-50KW_2025': nan,\n  'SOLAR_10-50KW_2030': nan,\n  'SOLAR_10-50KW_2035': nan,\n  'SOLAR_10-50KW_2040': nan,\n  'SOLAR_4-10KW_2025': nan,\n  'SOLAR_4-10KW_2030': nan,\n  'SOLAR_4-10KW_2035': nan,\n  'SOLAR_4-10KW_2040': nan,\n  'SOLAR_LT_4KW_2025': nan,\n  'SOLAR_LT_4KW_2030': nan,\n  'SOLAR_LT_4KW_2035': nan,\n  'SOLAR_LT_4KW_2040': nan,\n  'EFW_2025': 17200.0,\n  'EFW_2030': 17000.0,\n  'EFW_2035': 16800.0,\n  'EFW_2040': 16800.0,\n  'EFW_CHP_2025': 17200.0,\n  'EFW_CHP_2030': 17000.0,\n  'EFW_CHP_2035': 16800.0,\n  'EFW_CHP_2040': 16800.0,\n  'AD_2025': 13800.0,\n  'AD_2030': 13800.0,\n  'AD_2035': 13800.0,\n  'AD_2040': 13800.0,\n  'AD_CHP_2025': 13800.0,\n  'AD_CHP_2030': 13800.0,\n  'AD_CHP_2035': 13800.0,\n  'AD_CHP_2040': 13800.0,\n  'ACT_STANDARD_2025': 13000.0,\n  'ACT_STANDARD_2030': 12700.0,\n  'ACT_STANDARD_2035': 12500.0,\n  'ACT_STANDARD_2040': 12500.0,\n  'ACT_ADVANCED_2025': 13000.0,\n  'ACT_ADVANCED_2030': 12700.0,\n  'ACT_ADVANCED_2035': 12500.0,\n  'ACT_ADVANCED_2040': 12500.0,\n  'ACT_CHP_2025': 13000.0,\n  'ACT_CHP_2030': 12700.0,\n  'ACT_CHP_2035': 12500.0,\n  'ACT_CHP_2040': 12500.0,\n  'LANDFILL_GAS_2025': '6900',\n  'LANDFILL_GAS_2030': '6900',\n  'LANDFILL_GAS_2035': '6900',\n  'LANDFILL_GAS_2040': '6900',\n  'SEWAGE_GAS_2025': '13800',\n  'SEWAGE_GAS_2030': '13800',\n  'SEWAGE_GAS_2035': '13800',\n  'SEWAGE_GAS_2040': '13800',\n  'GEOTHERMAL_CHP_2025': '13800',\n  'GEOTHERMAL_CHP_2030': '13800',\n  'GEOTHERMAL_CHP_2035': '13800',\n  'GEOTHERMAL_CHP_2040': '13800',\n  'HYDRO_LARGE_STORAGE_2025': '8100',\n  'HYDRO_LARGE_STORAGE_2030': '8100',\n  'HYDRO_LARGE_STORAGE_2035': '8100',\n  'HYDRO_LARGE_STORAGE_2040': '8100',\n  'HYDRO_516MW_2025': nan,\n  'HYDRO_516MW_2030': nan,\n  'HYDRO_516MW_2035': nan,\n  'HYDRO_516MW_2040': nan,\n  'WAVE_2025': '34500',\n  'WAVE_2030': '24800',\n  'WAVE_2035': '21000',\n  'WAVE_2040': '21000',\n  'CCGT_CCS_POSTCOMBUST_FOAK_2025': 3500.0,\n  'CCGT_CCS_POSTCOMBUST_FOAK_2030': 3500.0,\n  'CCGT_CCS_POSTCOMBUST_FOAK_2035': nan,\n  'CCGT_CCS_POSTCOMBUST_FOAK_2040': nan,\n  'CCGT_CCS_POSTCOMBUST_NOAK_2025': nan,\n  'CCGT_CCS_POSTCOMBUST_NOAK_2030': nan,\n  'CCGT_CCS_POSTCOMBUST_NOAK_2035': 3500.0,\n  'CCGT_CCS_POSTCOMBUST_NOAK_2040': 3500.0,\n  'BIOMASS_CCS_FOAK_2025': '4100',\n  'BIOMASS_CCS_FOAK_2030': '4100',\n  'BIOMASS_CCS_FOAK_2035': nan,\n  'BIOMASS_CCS_FOAK_2040': nan,\n  'BIOMASS_CCS_NOAK_2025': nan,\n  'BIOMASS_CCS_NOAK_2030': nan,\n  'BIOMASS_CCS_NOAK_2035': '4100',\n  'BIOMASS_CCS_NOAK_2040': '4100'}]"
     },
     "metadata": {},
     "execution_count": 6
    }
   ],
   "source": [
    "cuscDict = cusc.to_dict('records')\n",
    "cuscDict"
   ]
  },
  {
   "cell_type": "code",
   "execution_count": null,
   "metadata": {},
   "outputs": [],
   "source": []
  }
 ]
}