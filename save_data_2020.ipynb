{
 "metadata": {
  "language_info": {
   "codemirror_mode": {
    "name": "ipython",
    "version": 3
   },
   "file_extension": ".py",
   "mimetype": "text/x-python",
   "name": "python",
   "nbconvert_exporter": "python",
   "pygments_lexer": "ipython3",
   "version": "3.8.0-final"
  },
  "orig_nbformat": 2,
  "kernelspec": {
   "name": "python_defaultSpec_1600884045183",
   "display_name": "Python 3.8.2 64-bit"
  }
 },
 "nbformat": 4,
 "nbformat_minor": 2,
 "cells": [
  {
   "source": [
    "import pandas as pd\n",
    "colnames = ['METRIC','INFO','UNIT',\\\n",
    "    'CCGT_H_2025','CCGT_H_2030','CCGT_H_2035','CCGT_H_2040',\\\n",
    "    'CCGT_CHP_2025','CCGT_CHP_2030','CCGT_CHP_2035','CCGT_CHP_2040',\\\n",
    "    'OCGT_600MW_500HR_2025','OCGT_600MW_500HR_2030','OCGT_600MW_500HR_2035','OCGT_600MW_500HR_2040',\\\n",
    "    'OCGT_400MW_500HR_2025','OCGT_400MW_500HR_2030','OCGT_400MW_500HR_2035','OCGT_400MW_500HR_2040',\\\n",
    "    'OCGT_300MW_500HR_2025','OCGT_300MW_500HR_2030','OCGT_300MW_500HR_2035','OCGT_300MW_500HR_2040',\\\n",
    "    'OCGT_299MW_500HR_2025','OCGT_300MW_500HR_2030','OCGT_300MW_500HR_2035','OCGT_300MW_500HR_2040',\\\n",
    "    'OCGT_100MW_500HR_2025','OCGT_300MW_500HR_2030','OCGT_300MW_500HR_2035','OCGT_300MW_500HR_2040',\\\n",
    "    'OCGT_600MW_2000HR_2025','OCGT_600MW_2000HR_2030','OCGT_600MW_2000HR_2035','OCGT_600MW_2000HR_2040',\\\n",
    "    'OCGT_400MW_2000HR_2025','OCGT_400MW_2000HR_2030','OCGT_400MW_2000HR_2035','OCGT_400MW_2000HR_2040',\\\n",
    "    'OCGT_300MW_2000HR_2025','OCGT_300MW_2000HR_2030','OCGT_300MW_2000HR_2035','OCGT_300MW_2000HR_2040',\\\n",
    "    'OCGT_299MW_2000HR_2025','OCGT_299MW_2000HR_2030','OCGT_299MW_2000HR_2035','OCGT_299MW_2000HR_2040',\\\n",
    "    'OCGT_100MW_2000HR_2025','OCGT_100MW_2000HR_2030','OCGT_100MW_2000HR_2035','OCGT_100MW_2000HR_2040',\\\n",
    "    'RECIP_DIESEL_2000HR_2025','RECIP_DIESEL_2000HR_2030','RECIP_DIESEL_2000HR_2035','RECIP_DIESEL_2000HR_2040',\\\n",
    "    'RECIP_DIESEL_500HR_2025','RECIP_DIESEL_500HR_2030','RECIP_DIESEL_500HR_2035','RECIP_DIESEL_500HR_2040',\\\n",
    "    'RECIP_DIESEL_90HR_2025','RECIP_DIESEL_90HR_2030','RECIP_DIESEL_90HR_2035','RECIP_DIESEL_90HR_2040',\\\n",
    "    'RECIP_GAS_2000HR_2025','RECIP_GAS_2000HR_2030','RECIP_GAS_2000HR_2035','RECIP_GAS_2000HR_2040',\\\n",
    "    'RECIP_GAS_500HR_2025','RECIP_GAS_500HR_2030','RECIP_GAS_500HR_2035','RECIP_GAS_500HR_2040',\\\n",
    "    'DEDICATED_BIOMASS_2025','DEDICATED_BIOMASS_2030','DEDICATED_BIOMASS_2035','DEDICATED_BIOMASS_2040',\\\n",
    "    'BIOMASS_CHP_2025','BIOMASS_CHP_2030','BIOMASS_CHP_2035','BIOMASS_CHP_2040',\\\n",
    "    'ONSHORE_WIND_2025','ONSHORE_WIND_2030','ONSHORE_WIND_2035','ONSHORE_WIND_2040',\\\n",
    "    'OFFSHORE_WIND_2025','OFFSHORE_WIND_2030','OFFSHORE_WIND_2035','OFFSHORE_WIND_2040',\\\n",
    "    'LARGESCALE_SOLAR_2025','LARGESCALE_SOLAR_2030','LARGESCALE_SOLAR_2035','LARGESCALE_SOLAR_2040',\\\n",
    "    'SOLAR_10-50KW_2025','SOLAR_10-50KW_2030','SOLAR_10-50KW_2035','SOLAR_10-50KW_2040',\\\n",
    "    'SOLAR_4-10KW_2025','SOLAR_4-10KW_2030','SOLAR_4-10KW_2035','SOLAR_4-10KW_2040',\\\n",
    "    'SOLAR_LT_4KW_2025','SOLAR_LT_4KW_2030','SOLAR_LT_4KW_2035','SOLAR_LT_4KW_2040',\\\n",
    "    'EFW_2025','EFW_2030','EFW_2035','EFW_2040',\\\n",
    "    'EFW_CHP_2025','EFW_CHP_2030','EFW_CHP_2035','EFW_CHP_2040',\\\n",
    "    'AD_2025','AD_2030','AD_2035','AD_2040',\\\n",
    "    'AD_CHP_2025','AD_CHP_2030','AD_CHP_2035','AD_CHP_2040',\\\n",
    "    'ACT_STANDARD_2025','ACT_STANDARD_2030','ACT_STANDARD_2035','ACT_STANDARD_2040',\\\n",
    "    'ACT_ADVANCED_2025','ACT_ADVANCED_2030','ACT_ADVANCED_2035','ACT_ADVANCED_2040',\\\n",
    "    'ACT_CHP_2025','ACT_CHP_2030','ACT_CHP_2035','ACT_CHP_2040',\\\n",
    "    'LANDFILL_GAS_2025','LANDFILL_GAS_2030','LANDFILL_GAS_2035','LANDFILL_GAS_2040',\\\n",
    "    'SEWAGE_GAS_2025','SEWAGE_GAS_2030','SEWAGE_GAS_2035','SEWAGE_GAS_2040',\\\n",
    "    'GEOTHERMAL_CHP_2025','GEOTHERMAL_CHP_2030','GEOTHERMAL_CHP_2035','GEOTHERMAL_CHP_2040',\\\n",
    "    'HYDRO_LARGE_STORAGE_2025','HYDRO_LARGE_STORAGE_2030','HYDRO_LARGE_STORAGE_2035','HYDRO_LARGE_STORAGE_2040',\\\n",
    "    'HYDRO_516MW_2025','HYDRO_516MW_2030','HYDRO_516MW_2035','HYDRO_516MW_2040',\\\n",
    "    'WAVE_2025','WAVE_2030','WAVE_2035','WAVE_2040',\\\n",
    "    'CCGT_CCS_POSTCOMBUST_FOAK_2025','CCGT_CCS_POSTCOMBUST_FOAK_2030','CCGT_CCS_POSTCOMBUST_FOAK_2035','CCGT_CCS_POSTCOMBUST_FOAK_2040',\\\n",
    "    'CCGT_CCS_POSTCOMBUST_NOAK_2025','CCGT_CCS_POSTCOMBUST_NOAK_2030','CCGT_CCS_POSTCOMBUST_NOAK_2035','CCGT_CCS_POSTCOMBUST_NOAK_2040',\\\n",
    "    'BIOMASS_CCS_FOAK_2025','BIOMASS_CCS_FOAK_2030','BIOMASS_CCS_FOAK_2035','BIOMASS_CCS_FOAK_2040',\\\n",
    "    'BIOMASS_CCS_NOAK_2025','BIOMASS_CCS_NOAK_2030','BIOMASS_CCS_NOAK_2035','BIOMASS_CCS_NOAK_2040']\n",
    "\n",
    "data = pd.read_excel('https://assets.publishing.service.gov.uk/government/uploads/system/uploads/attachment_data/file/911818/GC20_Key_Data_and_Assumptions.xlsx', sheet_name=1, names=colnames)\n",
    "#uos = data.iloc[[31]]\n",
    "#data[['METRIC','INFO','UNIT']]\n",
    "data.to_csv('gener2020.csv.gz', index=False, compression='infer')"
   ],
   "cell_type": "code",
   "metadata": {
    "tags": []
   },
   "execution_count": 8,
   "outputs": [
    {
     "output_type": "execute_result",
     "data": {
      "text/plain": "                                  METRIC INFO       UNIT  CCGT_H_2025  \\\n31  Connection and use of system charges  NaN  £/MW/year       3500.0   \n\n    CCGT_H_2030  CCGT_H_2035  CCGT_H_2040  CCGT_CHP_2025  CCGT_CHP_2030  \\\n31       3500.0       3500.0       3500.0         3500.0         3500.0   \n\n    CCGT_CHP_2035  ...  CCGT_CCS_POSTCOMBUST_NOAK_2035  \\\n31         3500.0  ...                          3500.0   \n\n    CCGT_CCS_POSTCOMBUST_NOAK_2040  BIOMASS_CCS_FOAK_2025  \\\n31                          3500.0                   4100   \n\n    BIOMASS_CCS_FOAK_2030  BIOMASS_CCS_FOAK_2035  BIOMASS_CCS_FOAK_2040  \\\n31                   4100                    NaN                    NaN   \n\n    BIOMASS_CCS_NOAK_2025  BIOMASS_CCS_NOAK_2030  BIOMASS_CCS_NOAK_2035  \\\n31                    NaN                    NaN                   4100   \n\n    BIOMASS_CCS_NOAK_2040  \n31                   4100  \n\n[1 rows x 171 columns]",
      "text/html": "<div>\n<style scoped>\n    .dataframe tbody tr th:only-of-type {\n        vertical-align: middle;\n    }\n\n    .dataframe tbody tr th {\n        vertical-align: top;\n    }\n\n    .dataframe thead th {\n        text-align: right;\n    }\n</style>\n<table border=\"1\" class=\"dataframe\">\n  <thead>\n    <tr style=\"text-align: right;\">\n      <th></th>\n      <th>METRIC</th>\n      <th>INFO</th>\n      <th>UNIT</th>\n      <th>CCGT_H_2025</th>\n      <th>CCGT_H_2030</th>\n      <th>CCGT_H_2035</th>\n      <th>CCGT_H_2040</th>\n      <th>CCGT_CHP_2025</th>\n      <th>CCGT_CHP_2030</th>\n      <th>CCGT_CHP_2035</th>\n      <th>...</th>\n      <th>CCGT_CCS_POSTCOMBUST_NOAK_2035</th>\n      <th>CCGT_CCS_POSTCOMBUST_NOAK_2040</th>\n      <th>BIOMASS_CCS_FOAK_2025</th>\n      <th>BIOMASS_CCS_FOAK_2030</th>\n      <th>BIOMASS_CCS_FOAK_2035</th>\n      <th>BIOMASS_CCS_FOAK_2040</th>\n      <th>BIOMASS_CCS_NOAK_2025</th>\n      <th>BIOMASS_CCS_NOAK_2030</th>\n      <th>BIOMASS_CCS_NOAK_2035</th>\n      <th>BIOMASS_CCS_NOAK_2040</th>\n    </tr>\n  </thead>\n  <tbody>\n    <tr>\n      <th>31</th>\n      <td>Connection and use of system charges</td>\n      <td>NaN</td>\n      <td>£/MW/year</td>\n      <td>3500.0</td>\n      <td>3500.0</td>\n      <td>3500.0</td>\n      <td>3500.0</td>\n      <td>3500.0</td>\n      <td>3500.0</td>\n      <td>3500.0</td>\n      <td>...</td>\n      <td>3500.0</td>\n      <td>3500.0</td>\n      <td>4100</td>\n      <td>4100</td>\n      <td>NaN</td>\n      <td>NaN</td>\n      <td>NaN</td>\n      <td>NaN</td>\n      <td>4100</td>\n      <td>4100</td>\n    </tr>\n  </tbody>\n</table>\n<p>1 rows × 171 columns</p>\n</div>"
     },
     "metadata": {},
     "execution_count": 8
    }
   ]
  },
  {
   "cell_type": "code",
   "execution_count": null,
   "metadata": {},
   "outputs": [],
   "source": []
  }
 ]
}